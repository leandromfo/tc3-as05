{
  "nbformat": 4,
  "nbformat_minor": 0,
  "metadata": {
    "colab": {
      "provenance": []
    },
    "kernelspec": {
      "name": "python3",
      "display_name": "Python 3"
    },
    "language_info": {
      "name": "python"
    }
  },
  "cells": [
    {
      "cell_type": "markdown",
      "source": [
        "# tc3-as05\n",
        "Atividade de Tópicos em Computação III - AS05: Implementação de Assistente Conversacional Baseado em LLM.\n",
        "Código feito no google colab.\n",
        "\n",
        "## Execução\n",
        "Para execução do código é necessário:\n",
        "- Adição das variáveis de ambiente 'PINECONE_API_KEY' e 'GOOGLE_API_KEY';\n",
        "- Executar o código;\n",
        "- Colocar entradas no input:\n",
        "  - 'sair' para fechar o programa;\n",
        "  - 'anexar' para adicionar arquivos ao repositório;\n",
        "  - A entrada desejada para análise dos arquivos anexados."
      ],
      "metadata": {
        "id": "m3BM8Qhxc6Zn"
      }
    },
    {
      "cell_type": "markdown",
      "source": [
        "#Functions"
      ],
      "metadata": {
        "id": "NzTR5IgF7qjI"
      }
    },
    {
      "cell_type": "code",
      "source": [
        "%pip install -qU langchain-pinecone pinecone-notebooks\n",
        "\n",
        "from pinecone import Pinecone, ServerlessSpec\n",
        "import time\n",
        "from langchain_pinecone import PineconeVectorStore\n",
        "import os\n",
        "\n",
        "def set_up_pinecone(index_name):\n",
        "  pc = Pinecone(api_key=os.environ[\"PINECONE_API_KEY\"])\n",
        "  existing_indexes = [index_info[\"name\"] for index_info in pc.list_indexes()]\n",
        "  if index_name not in existing_indexes:\n",
        "    pc.create_index(\n",
        "        name=index_name,\n",
        "        dimension=768,\n",
        "        metric=\"cosine\",\n",
        "        spec=ServerlessSpec(cloud=\"aws\", region=\"us-east-1\"),\n",
        "    )\n",
        "    while not pc.describe_index(index_name).status[\"ready\"]:\n",
        "        time.sleep(1)\n",
        "  return pc.Index(index_name)\n",
        "\n",
        "def get_vector_store(index, embeddings):\n",
        "  vector_store = PineconeVectorStore(index=index, embedding=embeddings)\n",
        "  return vector_store"
      ],
      "metadata": {
        "id": "JQ7lnBvLwAWV",
        "colab": {
          "base_uri": "https://localhost:8080/"
        },
        "outputId": "e37421e0-4c54-47d3-9a9f-2785da164d40"
      },
      "execution_count": 1,
      "outputs": [
        {
          "output_type": "stream",
          "name": "stdout",
          "text": [
            "\u001b[2K   \u001b[90m━━━━━━━━━━━━━━━━━━━━━━━━━━━━━━━━━━━━━━━━\u001b[0m \u001b[32m1.2/1.2 MB\u001b[0m \u001b[31m13.6 MB/s\u001b[0m eta \u001b[36m0:00:00\u001b[0m\n",
            "\u001b[2K   \u001b[90m━━━━━━━━━━━━━━━━━━━━━━━━━━━━━━━━━━━━━━━━\u001b[0m \u001b[32m244.8/244.8 kB\u001b[0m \u001b[31m4.5 MB/s\u001b[0m eta \u001b[36m0:00:00\u001b[0m\n",
            "\u001b[2K   \u001b[90m━━━━━━━━━━━━━━━━━━━━━━━━━━━━━━━━━━━━━━━━\u001b[0m \u001b[32m85.4/85.4 kB\u001b[0m \u001b[31m4.4 MB/s\u001b[0m eta \u001b[36m0:00:00\u001b[0m\n",
            "\u001b[?25h"
          ]
        }
      ]
    },
    {
      "cell_type": "code",
      "source": [
        "!pip install -qU langchain-google-genai\n",
        "\n",
        "import google.generativeai as genai\n",
        "from langchain_google_genai import GoogleGenerativeAIEmbeddings, ChatGoogleGenerativeAI\n",
        "from langchain_core.prompts import ChatPromptTemplate\n",
        "import os\n",
        "\n",
        "def set_up_gemini():\n",
        "  genai.configure(api_key=os.environ[\"GOOGLE_API_KEY\"])\n",
        "\n",
        "\n",
        "def get_gemini_embeddings():\n",
        "  genai.configure(api_key=os.environ[\"GOOGLE_API_KEY\"])\n",
        "  return GoogleGenerativeAIEmbeddings(model=\"models/text-embedding-004\")\n",
        "\n",
        "def create_chat_model():\n",
        "  return ChatGoogleGenerativeAI(\n",
        "      model=\"gemini-1.5-flash\",\n",
        "      temperature=0,\n",
        "      max_tokens=None,\n",
        "      timeout=None,\n",
        "      max_retries=2,\n",
        "      # other params...\n",
        "  )\n",
        "\n",
        "def create_chat_prompt(template, query):\n",
        "  return ChatPromptTemplate.from_messages([\n",
        "      (\"system\", template),\n",
        "      (\"human\", query),\n",
        "  ])"
      ],
      "metadata": {
        "colab": {
          "base_uri": "https://localhost:8080/"
        },
        "id": "nIpzfV8zxeGX",
        "outputId": "c71de608-e860-46d6-f8e8-c6fb04248ec0"
      },
      "execution_count": 2,
      "outputs": [
        {
          "output_type": "stream",
          "name": "stdout",
          "text": [
            "\u001b[?25l   \u001b[90m━━━━━━━━━━━━━━━━━━━━━━━━━━━━━━━━━━━━━━━━\u001b[0m \u001b[32m0.0/41.3 kB\u001b[0m \u001b[31m?\u001b[0m eta \u001b[36m-:--:--\u001b[0m\r\u001b[2K   \u001b[90m━━━━━━━━━━━━━━━━━━━━━━━━━━━━━━━━━━━━━━━━\u001b[0m \u001b[32m41.3/41.3 kB\u001b[0m \u001b[31m1.1 MB/s\u001b[0m eta \u001b[36m0:00:00\u001b[0m\n",
            "\u001b[?25h"
          ]
        }
      ]
    },
    {
      "cell_type": "code",
      "source": [
        "import os\n",
        "\n",
        "folder_name = 'pdf'\n",
        "pdf_directory = '/content/' + folder_name\n",
        "\n",
        "def import_files():\n",
        "  files = []\n",
        "  import_file()\n",
        "  list = os.listdir(pdf_directory)\n",
        "  for item in list:\n",
        "    files.append(os.path.join(pdf_directory, item))\n",
        "  return files\n",
        "def import_file():\n",
        "  from google.colab import files\n",
        "  upload = files.upload(pdf_directory)"
      ],
      "metadata": {
        "id": "ICdm4nwozk2Z"
      },
      "execution_count": 3,
      "outputs": []
    },
    {
      "cell_type": "code",
      "source": [
        "!pip install -q PyPDF2\n",
        "import PyPDF2\n",
        "from PyPDF2 import PdfReader\n",
        "from langchain_core.documents import Document\n",
        "import re\n",
        "\n",
        "def get_documents_vector(files):\n",
        "  documents = []\n",
        "  text ='';\n",
        "  for file in files:\n",
        "    if file.endswith('.pdf'):\n",
        "      with open(file, 'rb') as pdf_file:\n",
        "          pdf_reader = PyPDF2.PdfReader(pdf_file)\n",
        "          for page_num in range(len(pdf_reader.pages)):\n",
        "                  page = pdf_reader.pages[page_num]\n",
        "                  text += page.extract_text()\n",
        "    text = re.sub(r'-?\\d+(?:\\.\\d+)?', ' ', text)\n",
        "    text = re.sub(r'\\n', ' ', text)\n",
        "    documents.append(Document(page_content=text))\n",
        "  return documents"
      ],
      "metadata": {
        "colab": {
          "base_uri": "https://localhost:8080/"
        },
        "id": "SxLEjQq70DW7",
        "outputId": "e3034325-613a-4b50-b27a-fcf351cc133e"
      },
      "execution_count": 4,
      "outputs": [
        {
          "output_type": "stream",
          "name": "stdout",
          "text": [
            "\u001b[?25l   \u001b[90m━━━━━━━━━━━━━━━━━━━━━━━━━━━━━━━━━━━━━━━━\u001b[0m \u001b[32m0.0/232.6 kB\u001b[0m \u001b[31m?\u001b[0m eta \u001b[36m-:--:--\u001b[0m\r\u001b[2K   \u001b[91m━━━━━━━━━━━━━━━\u001b[0m\u001b[91m╸\u001b[0m\u001b[90m━━━━━━━━━━━━━━━━━━━━━━━━\u001b[0m \u001b[32m92.2/232.6 kB\u001b[0m \u001b[31m2.5 MB/s\u001b[0m eta \u001b[36m0:00:01\u001b[0m\r\u001b[2K   \u001b[90m━━━━━━━━━━━━━━━━━━━━━━━━━━━━━━━━━━━━━━━━\u001b[0m \u001b[32m232.6/232.6 kB\u001b[0m \u001b[31m3.5 MB/s\u001b[0m eta \u001b[36m0:00:00\u001b[0m\n",
            "\u001b[?25h"
          ]
        }
      ]
    },
    {
      "cell_type": "code",
      "source": [
        "from uuid import uuid4\n",
        "\n",
        "def gen_documents_id(documents):\n",
        "  return [str(uuid4()) for _ in range(len(documents))]"
      ],
      "metadata": {
        "id": "AUHZHZYR2mcn"
      },
      "execution_count": 5,
      "outputs": []
    },
    {
      "cell_type": "code",
      "source": [
        "from langchain.schema import BaseOutputParser\n",
        "\n",
        "class CommaSeparatedListOutputParser(BaseOutputParser):\n",
        "  def parse(self, text: str):\n",
        "    return text.strip().split(\", \")"
      ],
      "metadata": {
        "id": "6w2xqAg449Ho"
      },
      "execution_count": 6,
      "outputs": []
    },
    {
      "cell_type": "code",
      "source": [
        "def do_query(results, query):\n",
        "  conteudos = []\n",
        "  for doc in results:\n",
        "    conteudos.append(doc.page_content)\n",
        "\n",
        "  template = \"Utilize o contetúdo dos seguintes textos para responder a pergunta realizada: \" + \" \".join(conteudos)\n",
        "\n",
        "  chat_prompt = create_chat_prompt(template, query)\n",
        "  chat_model = create_chat_model()\n",
        "\n",
        "  chain = chat_prompt | chat_model | CommaSeparatedListOutputParser()\n",
        "\n",
        "  responses = chain.invoke({\"text\": query})\n",
        "\n",
        "  print(\"\\nResultado: \\n\")\n",
        "  for response in responses:\n",
        "    print(\"\" + re.sub(r'-?\\d+(?:\\.\\d+)?', ' ', response))"
      ],
      "metadata": {
        "id": "DVpP6U33Fd4m"
      },
      "execution_count": 7,
      "outputs": []
    },
    {
      "cell_type": "markdown",
      "source": [
        "# Implamentations"
      ],
      "metadata": {
        "id": "sKcfcSgl7u1p"
      }
    },
    {
      "cell_type": "code",
      "source": [
        "%env PINECONE_API_KEY=\n",
        "pinecone_index_name = \"tc3-as05\"\n",
        "pinecone_index = set_up_pinecone(pinecone_index_name)"
      ],
      "metadata": {
        "id": "_GGRzrbe1U58"
      },
      "execution_count": null,
      "outputs": []
    },
    {
      "cell_type": "code",
      "source": [
        "%env GOOGLE_API_KEY=\n",
        "set_up_gemini()\n",
        "embeddings = get_gemini_embeddings()"
      ],
      "metadata": {
        "id": "g-aTJcFX1WLZ"
      },
      "execution_count": null,
      "outputs": []
    },
    {
      "cell_type": "code",
      "source": [
        "vector_store = get_vector_store(pinecone_index, embeddings)"
      ],
      "metadata": {
        "id": "TZFgMsas1W-2"
      },
      "execution_count": 10,
      "outputs": []
    },
    {
      "cell_type": "code",
      "source": [
        "while True:\n",
        "  entrada = input(\"\\n\\nDigite no campo destacado\\n- Digite 'sair' para encerrar\\n- Digite 'anexar' para adicionar documentos\\n- Ou digite que gostaria de saber sobre o conteúdo anexado\\nEntrada: \")\n",
        "  if entrada.lower() == 'sair':\n",
        "    print(\"Encerrando o programa...\")\n",
        "    break\n",
        "  elif entrada.lower() == 'anexar':\n",
        "    files = import_files()\n",
        "    documents_vector = get_documents_vector(files)\n",
        "    documents_ids = gen_documents_id(documents_vector)\n",
        "    vector_store.add_documents(documents=documents_vector, documents_ids=documents_ids)\n",
        "  else:\n",
        "    query = entrada\n",
        "    results = vector_store.similarity_search(query=query,k=1)\n",
        "    do_query(results, query)"
      ],
      "metadata": {
        "colab": {
          "base_uri": "https://localhost:8080/",
          "height": 576
        },
        "id": "5iY4z2PnvaQH",
        "outputId": "9b379442-8203-4326-f7f8-1bb54949a1d5"
      },
      "execution_count": 11,
      "outputs": [
        {
          "name": "stdout",
          "output_type": "stream",
          "text": [
            "\n",
            "\n",
            "Digite no campo destacado\n",
            "- Digite 'sair' para encerrar\n",
            "- Digite 'anexar' para adicionar documentos\n",
            "- Ou digite que gostaria de saber sobre o conteúdo anexado\n",
            "Entrada: anexar\n"
          ]
        },
        {
          "output_type": "display_data",
          "data": {
            "text/plain": [
              "<IPython.core.display.HTML object>"
            ],
            "text/html": [
              "\n",
              "     <input type=\"file\" id=\"files-cdb192f0-3405-4189-ad41-3e73e4fdb480\" name=\"files[]\" multiple disabled\n",
              "        style=\"border:none\" />\n",
              "     <output id=\"result-cdb192f0-3405-4189-ad41-3e73e4fdb480\">\n",
              "      Upload widget is only available when the cell has been executed in the\n",
              "      current browser session. Please rerun this cell to enable.\n",
              "      </output>\n",
              "      <script>// Copyright 2017 Google LLC\n",
              "//\n",
              "// Licensed under the Apache License, Version 2.0 (the \"License\");\n",
              "// you may not use this file except in compliance with the License.\n",
              "// You may obtain a copy of the License at\n",
              "//\n",
              "//      http://www.apache.org/licenses/LICENSE-2.0\n",
              "//\n",
              "// Unless required by applicable law or agreed to in writing, software\n",
              "// distributed under the License is distributed on an \"AS IS\" BASIS,\n",
              "// WITHOUT WARRANTIES OR CONDITIONS OF ANY KIND, either express or implied.\n",
              "// See the License for the specific language governing permissions and\n",
              "// limitations under the License.\n",
              "\n",
              "/**\n",
              " * @fileoverview Helpers for google.colab Python module.\n",
              " */\n",
              "(function(scope) {\n",
              "function span(text, styleAttributes = {}) {\n",
              "  const element = document.createElement('span');\n",
              "  element.textContent = text;\n",
              "  for (const key of Object.keys(styleAttributes)) {\n",
              "    element.style[key] = styleAttributes[key];\n",
              "  }\n",
              "  return element;\n",
              "}\n",
              "\n",
              "// Max number of bytes which will be uploaded at a time.\n",
              "const MAX_PAYLOAD_SIZE = 100 * 1024;\n",
              "\n",
              "function _uploadFiles(inputId, outputId) {\n",
              "  const steps = uploadFilesStep(inputId, outputId);\n",
              "  const outputElement = document.getElementById(outputId);\n",
              "  // Cache steps on the outputElement to make it available for the next call\n",
              "  // to uploadFilesContinue from Python.\n",
              "  outputElement.steps = steps;\n",
              "\n",
              "  return _uploadFilesContinue(outputId);\n",
              "}\n",
              "\n",
              "// This is roughly an async generator (not supported in the browser yet),\n",
              "// where there are multiple asynchronous steps and the Python side is going\n",
              "// to poll for completion of each step.\n",
              "// This uses a Promise to block the python side on completion of each step,\n",
              "// then passes the result of the previous step as the input to the next step.\n",
              "function _uploadFilesContinue(outputId) {\n",
              "  const outputElement = document.getElementById(outputId);\n",
              "  const steps = outputElement.steps;\n",
              "\n",
              "  const next = steps.next(outputElement.lastPromiseValue);\n",
              "  return Promise.resolve(next.value.promise).then((value) => {\n",
              "    // Cache the last promise value to make it available to the next\n",
              "    // step of the generator.\n",
              "    outputElement.lastPromiseValue = value;\n",
              "    return next.value.response;\n",
              "  });\n",
              "}\n",
              "\n",
              "/**\n",
              " * Generator function which is called between each async step of the upload\n",
              " * process.\n",
              " * @param {string} inputId Element ID of the input file picker element.\n",
              " * @param {string} outputId Element ID of the output display.\n",
              " * @return {!Iterable<!Object>} Iterable of next steps.\n",
              " */\n",
              "function* uploadFilesStep(inputId, outputId) {\n",
              "  const inputElement = document.getElementById(inputId);\n",
              "  inputElement.disabled = false;\n",
              "\n",
              "  const outputElement = document.getElementById(outputId);\n",
              "  outputElement.innerHTML = '';\n",
              "\n",
              "  const pickedPromise = new Promise((resolve) => {\n",
              "    inputElement.addEventListener('change', (e) => {\n",
              "      resolve(e.target.files);\n",
              "    });\n",
              "  });\n",
              "\n",
              "  const cancel = document.createElement('button');\n",
              "  inputElement.parentElement.appendChild(cancel);\n",
              "  cancel.textContent = 'Cancel upload';\n",
              "  const cancelPromise = new Promise((resolve) => {\n",
              "    cancel.onclick = () => {\n",
              "      resolve(null);\n",
              "    };\n",
              "  });\n",
              "\n",
              "  // Wait for the user to pick the files.\n",
              "  const files = yield {\n",
              "    promise: Promise.race([pickedPromise, cancelPromise]),\n",
              "    response: {\n",
              "      action: 'starting',\n",
              "    }\n",
              "  };\n",
              "\n",
              "  cancel.remove();\n",
              "\n",
              "  // Disable the input element since further picks are not allowed.\n",
              "  inputElement.disabled = true;\n",
              "\n",
              "  if (!files) {\n",
              "    return {\n",
              "      response: {\n",
              "        action: 'complete',\n",
              "      }\n",
              "    };\n",
              "  }\n",
              "\n",
              "  for (const file of files) {\n",
              "    const li = document.createElement('li');\n",
              "    li.append(span(file.name, {fontWeight: 'bold'}));\n",
              "    li.append(span(\n",
              "        `(${file.type || 'n/a'}) - ${file.size} bytes, ` +\n",
              "        `last modified: ${\n",
              "            file.lastModifiedDate ? file.lastModifiedDate.toLocaleDateString() :\n",
              "                                    'n/a'} - `));\n",
              "    const percent = span('0% done');\n",
              "    li.appendChild(percent);\n",
              "\n",
              "    outputElement.appendChild(li);\n",
              "\n",
              "    const fileDataPromise = new Promise((resolve) => {\n",
              "      const reader = new FileReader();\n",
              "      reader.onload = (e) => {\n",
              "        resolve(e.target.result);\n",
              "      };\n",
              "      reader.readAsArrayBuffer(file);\n",
              "    });\n",
              "    // Wait for the data to be ready.\n",
              "    let fileData = yield {\n",
              "      promise: fileDataPromise,\n",
              "      response: {\n",
              "        action: 'continue',\n",
              "      }\n",
              "    };\n",
              "\n",
              "    // Use a chunked sending to avoid message size limits. See b/62115660.\n",
              "    let position = 0;\n",
              "    do {\n",
              "      const length = Math.min(fileData.byteLength - position, MAX_PAYLOAD_SIZE);\n",
              "      const chunk = new Uint8Array(fileData, position, length);\n",
              "      position += length;\n",
              "\n",
              "      const base64 = btoa(String.fromCharCode.apply(null, chunk));\n",
              "      yield {\n",
              "        response: {\n",
              "          action: 'append',\n",
              "          file: file.name,\n",
              "          data: base64,\n",
              "        },\n",
              "      };\n",
              "\n",
              "      let percentDone = fileData.byteLength === 0 ?\n",
              "          100 :\n",
              "          Math.round((position / fileData.byteLength) * 100);\n",
              "      percent.textContent = `${percentDone}% done`;\n",
              "\n",
              "    } while (position < fileData.byteLength);\n",
              "  }\n",
              "\n",
              "  // All done.\n",
              "  yield {\n",
              "    response: {\n",
              "      action: 'complete',\n",
              "    }\n",
              "  };\n",
              "}\n",
              "\n",
              "scope.google = scope.google || {};\n",
              "scope.google.colab = scope.google.colab || {};\n",
              "scope.google.colab._files = {\n",
              "  _uploadFiles,\n",
              "  _uploadFilesContinue,\n",
              "};\n",
              "})(self);\n",
              "</script> "
            ]
          },
          "metadata": {}
        },
        {
          "output_type": "stream",
          "name": "stdout",
          "text": [
            "Saving trabalho_de_conclusao_de_curso.pdf to /content/pdf/trabalho_de_conclusao_de_curso.pdf\n",
            "\n",
            "\n",
            "Digite no campo destacado\n",
            "- Digite 'sair' para encerrar\n",
            "- Digite 'anexar' para adicionar documentos\n",
            "- Ou digite que gostaria de saber sobre o conteúdo anexado\n",
            "Entrada: Defina de forma resumida quais os benefícios do artigo sobre OCR.\n",
            "\n",
            "Resultado: \n",
            "\n",
            "O artigo demonstra o desenvolvimento de um aplicativo móvel que usa OCR e TTS para auxiliar pessoas com deficiência visual e dificuldades de leitura.  O principal benefício é a ampliação do acesso à informação através da conversão de texto em imagens para áudio\n",
            "promovendo maior autonomia e inclusão social.  Os testes mostraram a eficácia do sistema\n",
            "especialmente quando comparado com outras bibliotecas OCR\n",
            "destacando o potencial da solução como tecnologia assistiva.\n",
            "\n",
            "\n",
            "Digite no campo destacado\n",
            "- Digite 'sair' para encerrar\n",
            "- Digite 'anexar' para adicionar documentos\n",
            "- Ou digite que gostaria de saber sobre o conteúdo anexado\n",
            "Entrada: sair\n",
            "Encerrando o programa...\n"
          ]
        }
      ]
    }
  ]
}